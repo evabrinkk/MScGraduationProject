{
 "cells": [
  {
   "cell_type": "markdown",
   "metadata": {},
   "source": [
    "# Sensitivity Analysis (using feature scoring)\n",
    "To evaluate the robustness of the conclusions and how sensitive the model is to specific inputs, a global sensitivity analysis is performed. This resorts to the feature scoring method of the EMA workbench. \n",
    "\n",
    "This analysis is performed over 625 scenarios with 10 replications each. They assumed the percentage-competitive of the population to be 10% and no policy to be implemented (baseline). Finally, the runs were simulated over a period of 30 days. This is a different time from the notel experiments and results but it is considered to be enough to measure the state of the system and the sensitivity of the model.\n",
    "\n",
    "\n",
    "## Feature Scoring\n",
    "Feature scoring is a machine-learning alternative to global sensitivity analysis and can be used to get insight into the relative inﬂuence of the various uncertainfactors on model outcomes (Kwakkel, 2013)\n",
    "\n",
    "\n",
    "### Sampled parameters:\n",
    "- impact-long-queues    -  _taking the values of: [3,4,5,6,7]_\n",
    "- initial-covid-cases  -  _taking the values of: [1,2,3,4,5]_\n",
    "- threshold-competitive -  _taking the values of: [30,40,50,60,70]_\n",
    "- service-timeSA        -  _taking the values of: [2,3,4,5,6]_\n",
    "\n",
    "### Outcomes of interest:\n",
    "__1. Queuing dynamics__\n",
    "- average time in queue \n",
    "- min_queuingtime\n",
    "- max_queuingtime\n",
    "\n",
    "__2. Infection dynamics:__\n",
    "- nr COVID cases at the end \n",
    "- nr cases before food distribution (day 7)\n",
    "- nr cases after food distribution + incubation period (day 13)\n",
    "\n",
    "\n",
    "\n",
    "### Steps:\n",
    "1. structure data in experiments and outcomes \n",
    "2. run analysis\n",
    "3. visualize feature scoring matrix\n"
   ]
  },
  {
   "cell_type": "code",
   "execution_count": 1,
   "metadata": {},
   "outputs": [],
   "source": [
    "import numpy as np\n",
    "import os\n",
    "import pandas as pd\n",
    "import matplotlib.pyplot as plt\n",
    "import seaborn as sns\n",
    "import datetime\n",
    "import random\n",
    "from ema_workbench.analysis import feature_scoring\n"
   ]
  },
  {
   "cell_type": "markdown",
   "metadata": {},
   "source": [
    "### Data Structuring\n",
    "\n",
    "Dividing the results into _experiments_ and _outcomes_"
   ]
  },
  {
   "cell_type": "code",
   "execution_count": 2,
   "metadata": {},
   "outputs": [
    {
     "data": {
      "text/html": [
       "<div>\n",
       "<style scoped>\n",
       "    .dataframe tbody tr th:only-of-type {\n",
       "        vertical-align: middle;\n",
       "    }\n",
       "\n",
       "    .dataframe tbody tr th {\n",
       "        vertical-align: top;\n",
       "    }\n",
       "\n",
       "    .dataframe thead th {\n",
       "        text-align: right;\n",
       "    }\n",
       "</style>\n",
       "<table border=\"1\" class=\"dataframe\">\n",
       "  <thead>\n",
       "    <tr style=\"text-align: right;\">\n",
       "      <th></th>\n",
       "      <th>Unnamed: 0</th>\n",
       "      <th>threshold-competitive</th>\n",
       "      <th>impact-long-queues</th>\n",
       "      <th>initial-corona-number</th>\n",
       "      <th>service-timeSA</th>\n",
       "      <th>policy-implemented</th>\n",
       "      <th>time-slot?</th>\n",
       "      <th>percentage-competitive</th>\n",
       "      <th>cum-infected</th>\n",
       "      <th>average-timequeue</th>\n",
       "      <th>min-timequeue</th>\n",
       "      <th>max-timequeue</th>\n",
       "      <th>cum-infected-10080</th>\n",
       "      <th>cum-infected-18720</th>\n",
       "    </tr>\n",
       "  </thead>\n",
       "  <tbody>\n",
       "    <tr>\n",
       "      <th>0</th>\n",
       "      <td>0</td>\n",
       "      <td>30</td>\n",
       "      <td>3</td>\n",
       "      <td>1</td>\n",
       "      <td>2</td>\n",
       "      <td>policy 0 (baseline)</td>\n",
       "      <td>False</td>\n",
       "      <td>10</td>\n",
       "      <td>214</td>\n",
       "      <td>70.840909</td>\n",
       "      <td>1</td>\n",
       "      <td>237</td>\n",
       "      <td>6</td>\n",
       "      <td>34</td>\n",
       "    </tr>\n",
       "    <tr>\n",
       "      <th>1</th>\n",
       "      <td>1</td>\n",
       "      <td>30</td>\n",
       "      <td>3</td>\n",
       "      <td>1</td>\n",
       "      <td>2</td>\n",
       "      <td>policy 0 (baseline)</td>\n",
       "      <td>False</td>\n",
       "      <td>10</td>\n",
       "      <td>426</td>\n",
       "      <td>74.696721</td>\n",
       "      <td>1</td>\n",
       "      <td>301</td>\n",
       "      <td>3</td>\n",
       "      <td>46</td>\n",
       "    </tr>\n",
       "    <tr>\n",
       "      <th>2</th>\n",
       "      <td>2</td>\n",
       "      <td>30</td>\n",
       "      <td>3</td>\n",
       "      <td>1</td>\n",
       "      <td>2</td>\n",
       "      <td>policy 0 (baseline)</td>\n",
       "      <td>False</td>\n",
       "      <td>10</td>\n",
       "      <td>256</td>\n",
       "      <td>155.721591</td>\n",
       "      <td>1</td>\n",
       "      <td>397</td>\n",
       "      <td>3</td>\n",
       "      <td>33</td>\n",
       "    </tr>\n",
       "    <tr>\n",
       "      <th>3</th>\n",
       "      <td>3</td>\n",
       "      <td>30</td>\n",
       "      <td>3</td>\n",
       "      <td>1</td>\n",
       "      <td>2</td>\n",
       "      <td>policy 0 (baseline)</td>\n",
       "      <td>False</td>\n",
       "      <td>10</td>\n",
       "      <td>273</td>\n",
       "      <td>102.113636</td>\n",
       "      <td>1</td>\n",
       "      <td>312</td>\n",
       "      <td>6</td>\n",
       "      <td>36</td>\n",
       "    </tr>\n",
       "    <tr>\n",
       "      <th>4</th>\n",
       "      <td>4</td>\n",
       "      <td>30</td>\n",
       "      <td>3</td>\n",
       "      <td>1</td>\n",
       "      <td>2</td>\n",
       "      <td>policy 0 (baseline)</td>\n",
       "      <td>False</td>\n",
       "      <td>10</td>\n",
       "      <td>36</td>\n",
       "      <td>108.482954</td>\n",
       "      <td>1</td>\n",
       "      <td>309</td>\n",
       "      <td>3</td>\n",
       "      <td>6</td>\n",
       "    </tr>\n",
       "  </tbody>\n",
       "</table>\n",
       "</div>"
      ],
      "text/plain": [
       "   Unnamed: 0  threshold-competitive  impact-long-queues  \\\n",
       "0           0                     30                   3   \n",
       "1           1                     30                   3   \n",
       "2           2                     30                   3   \n",
       "3           3                     30                   3   \n",
       "4           4                     30                   3   \n",
       "\n",
       "   initial-corona-number  service-timeSA   policy-implemented  time-slot?  \\\n",
       "0                      1               2  policy 0 (baseline)       False   \n",
       "1                      1               2  policy 0 (baseline)       False   \n",
       "2                      1               2  policy 0 (baseline)       False   \n",
       "3                      1               2  policy 0 (baseline)       False   \n",
       "4                      1               2  policy 0 (baseline)       False   \n",
       "\n",
       "   percentage-competitive  cum-infected  average-timequeue  min-timequeue  \\\n",
       "0                      10           214          70.840909              1   \n",
       "1                      10           426          74.696721              1   \n",
       "2                      10           256         155.721591              1   \n",
       "3                      10           273         102.113636              1   \n",
       "4                      10            36         108.482954              1   \n",
       "\n",
       "   max-timequeue  cum-infected-10080  cum-infected-18720  \n",
       "0            237                   6                  34  \n",
       "1            301                   3                  46  \n",
       "2            397                   3                  33  \n",
       "3            312                   6                  36  \n",
       "4            309                   3                   6  "
      ]
     },
     "execution_count": 2,
     "metadata": {},
     "output_type": "execute_result"
    }
   ],
   "source": [
    "# Load the new .csv file \n",
    "\n",
    "results_df = pd.read_csv(\"SA_cleanresults3.csv\")   # make sure to be in the same folder as this notebook \n",
    "results_df.head()"
   ]
  },
  {
   "cell_type": "code",
   "execution_count": 38,
   "metadata": {},
   "outputs": [],
   "source": [
    "# rename the column names \n",
    "results_df.columns = ['scenario', 'threshold-competitive', 'impact-long-queues', 'initial-covid-cases', 'service-time', 'policy-implemented', \n",
    "             'time-slot?', 'percentage-competitive','total-infected-day30', 'average-timequeue', 'min-timequeue', 'max-timequeue', 'total-infected-beforedistribution', 'total-infected-afterdistribution']"
   ]
  },
  {
   "cell_type": "code",
   "execution_count": 44,
   "metadata": {},
   "outputs": [],
   "source": [
    "# Define experiments (simply choosing the respective columns from the dataframe)\n",
    "experiments =  results_df[[ 'scenario', 'threshold-competitive','impact-long-queues', 'initial-covid-cases', 'service-time']]"
   ]
  },
  {
   "cell_type": "code",
   "execution_count": 45,
   "metadata": {},
   "outputs": [
    {
     "data": {
      "text/plain": [
       "{'min-timequeue': array([1, 1, 1, ..., 5, 5, 5], dtype=int64),\n",
       " 'average-timequeue': array([ 70.84090909,  74.69672131, 155.7215909 , ..., 676.1477273 ,\n",
       "        641.8011364 , 675.4488636 ]),\n",
       " 'max-timequeue': array([ 237,  301,  397, ..., 1245, 1232, 1266], dtype=int64),\n",
       " 'total-infected-beforedistribution': array([ 6,  3,  3, ..., 19, 18, 21], dtype=int64),\n",
       " 'total-infected-afterdistribution': array([ 34,  46,  33, ..., 202, 121, 117], dtype=int64),\n",
       " 'total-infected-day30': array([214, 426, 256, ..., 770, 611, 625], dtype=int64)}"
      ]
     },
     "execution_count": 45,
     "metadata": {},
     "output_type": "execute_result"
    }
   ],
   "source": [
    "# Similarly, get the outcomes \n",
    "cols_to_select = ['min-timequeue', 'average-timequeue', 'min-timequeue', 'max-timequeue',  'total-infected-beforedistribution', 'total-infected-afterdistribution', 'total-infected-day30']\n",
    "outcomes_dict = {}\n",
    "for col in cols_to_select:\n",
    "    \n",
    "    outcomes_dict[col] = np.array(results_df[col])\n",
    "outcomes_dict"
   ]
  },
  {
   "cell_type": "code",
   "execution_count": 46,
   "metadata": {},
   "outputs": [],
   "source": [
    "outcomes = outcomes_dict"
   ]
  },
  {
   "cell_type": "markdown",
   "metadata": {},
   "source": [
    "### Feature Scoring Analysis\n"
   ]
  },
  {
   "cell_type": "code",
   "execution_count": 47,
   "metadata": {},
   "outputs": [],
   "source": [
    "# Perform analysis using EMA workbench \n",
    "fs = feature_scoring.get_feature_scores_all(experiments, outcomes)"
   ]
  },
  {
   "cell_type": "markdown",
   "metadata": {},
   "source": [
    "### Visualization "
   ]
  },
  {
   "cell_type": "code",
   "execution_count": 48,
   "metadata": {},
   "outputs": [
    {
     "data": {
      "image/png": "[encoded data removed]",
      "text/plain": [
       "<Figure size 432x288 with 2 Axes>"
      ]
     },
     "metadata": {
      "needs_background": "light"
     },
     "output_type": "display_data"
    },
    {
     "data": {
      "text/plain": [
       "<Figure size 648x792 with 0 Axes>"
      ]
     },
     "metadata": {},
     "output_type": "display_data"
    }
   ],
   "source": [
    "## here I can visualize it \n",
    "\n",
    "\n",
    "fig1 = sns.heatmap(fs, cmap='viridis', annot=True)\n",
    "plt.show()\n",
    "plt.figure(figsize=(9, 11))\n",
    "figure = fig1.get_figure()    \n",
    "figure.savefig(\"FeatureScoring_V1.svg\", bbox_inches = 'tight')"
   ]
  },
  {
   "cell_type": "markdown",
   "metadata": {},
   "source": [
    "<span style='color:green'> What kind of comments can I take from this? </span>\n",
    "\n",
    "1. There is a clear division between queue and infection dynamics. \n",
    "\n",
    "2. The number of initial covid cases has a very high effect on the number of cases along time (main driver). This suggests that this variable is very important when looking into containing the outbreak. This variable, as expected, has negligible impact on the queuing outcomes of interest \n",
    "\n",
    "3. However, we cant really control much of the initial covid cases (but can try to be aware of it with testing and understand if it is already too late to make decisions and stuff)\n",
    "\n",
    "4. Similarly, while the queuing outcomes of interest have a high sensitviity to the service-time, this variable barely impacts the number of covid cases along time     \n",
    "* (This goes in line with the results observed in the experiments that policies implemented at the food distribution level do not seem to have a high impact over time -- do I mean this?)\n",
    "\n",
    "4. The threshold-competitive shows limited (but some) impact on both dynamics (max-timeinqueue and total-infected-afterdistribution)\n",
    "\n",
    "5. Finally, The model shows no sensitivity to the variable impact-long-queues\n",
    "\n",
    "6. But matrix shows relative impact so we are going to perform a new one without the two main sensitivities\n",
    "\n",
    "\n",
    "* Mention that this was conducted in a scenario with 10% competitive and policy 0 implemented (baseline). This choice will already influence the impact of the others (whole thing with global SA. so the values are biased and could be different in other situations)"
   ]
  },
  {
   "cell_type": "code",
   "execution_count": 9,
   "metadata": {},
   "outputs": [],
   "source": [
    "#### Repeat sensitivity analysis with only threshold-competitive and impact-long-queues and show how it is different"
   ]
  },
  {
   "cell_type": "markdown",
   "metadata": {},
   "source": [
    "\"Since all models are wrong the scientist must be alert to what is importantly wrong. It is inappropriate to be concerned about mice when there are tigers abroad.\" George Box, 1976."
   ]
  },
  {
   "cell_type": "code",
   "execution_count": 49,
   "metadata": {},
   "outputs": [],
   "source": [
    "# Defining the new experiments now \n",
    "experiments1 =  results_df[[ 'scenario', 'threshold-competitive','impact-long-queues']]\n"
   ]
  },
  {
   "cell_type": "code",
   "execution_count": 50,
   "metadata": {},
   "outputs": [],
   "source": [
    "# Conducting a new analysis \n",
    "fs = feature_scoring.get_feature_scores_all(experiments1, outcomes)"
   ]
  },
  {
   "cell_type": "code",
   "execution_count": 51,
   "metadata": {},
   "outputs": [
    {
     "data": {
      "image/png": "[encoded data removed]",
      "text/plain": [
       "<Figure size 432x288 with 2 Axes>"
      ]
     },
     "metadata": {
      "needs_background": "light"
     },
     "output_type": "display_data"
    },
    {
     "data": {
      "text/plain": [
       "<Figure size 648x792 with 0 Axes>"
      ]
     },
     "metadata": {},
     "output_type": "display_data"
    }
   ],
   "source": [
    "# Showing the new visualization \n",
    "fig1 = sns.heatmap(fs, cmap='viridis', annot=True)\n",
    "plt.show()\n",
    "plt.figure(figsize=(9, 11))\n",
    "figure = fig1.get_figure()    \n",
    "figure.savefig(\"FeatureScoring_V2.svg\", bbox_inches = 'tight')"
   ]
  },
  {
   "cell_type": "markdown",
   "metadata": {},
   "source": [
    "<span style='color:green'> What kind of comments can I take from this? </span>\n",
    "\n",
    "1. Not regarding the other two, the feature scoring shows that the threshold-competitive is larger driver of those outcomes of interest more than the impact of long queues\n",
    "\n",
    "2. If we are still at an intiial stage of the infection, it can be relevant to look into the queuing part. in specific to look into the threshold-competitive and try to maintain it as high as possible (making people behaving cooperatevily,) , info campgains, example of calais and food and clothes\n",
    "\n",
    "\n",
    "3. \"model is sensitive to the condition of the system\" \n",
    "\n",
    "* \"Why worry about mice when you have tigers around\" \n",
    "\n"
   ]
  },
  {
   "cell_type": "code",
   "execution_count": null,
   "metadata": {},
   "outputs": [],
   "source": [
    "##### maybe the problem is also KPIS.. so now i will disaggregate the population adn the time component\n",
    "## instead of looking at the PEOPLE, i look at the coope and the compt "
   ]
  },
  {
   "cell_type": "code",
   "execution_count": null,
   "metadata": {},
   "outputs": [],
   "source": []
  }
 ],
 "metadata": {
  "kernelspec": {
   "display_name": "Python 3",
   "language": "python",
   "name": "python3"
  },
  "language_info": {
   "codemirror_mode": {
    "name": "ipython",
    "version": 3
   },
   "file_extension": ".py",
   "mimetype": "text/x-python",
   "name": "python",
   "nbconvert_exporter": "python",
   "pygments_lexer": "ipython3",
   "version": "3.7.3"
  }
 },
 "nbformat": 4,
 "nbformat_minor": 2
}
